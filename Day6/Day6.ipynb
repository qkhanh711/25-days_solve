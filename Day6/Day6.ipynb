{
 "cells": [
  {
   "cell_type": "code",
   "execution_count": 1,
   "metadata": {},
   "outputs": [],
   "source": [
    "import pandas as pd\n",
    "data = pd.read_csv('inputPart1.txt', header=None, sep=':')\n",
    "df = pd.DataFrame(data)\n",
    "input = df.iloc[:, :].values"
   ]
  },
  {
   "cell_type": "code",
   "execution_count": 2,
   "metadata": {},
   "outputs": [],
   "source": [
    "limits = list(map(int,input[0][1].split()))\n",
    "distances = list(map(int,input[1][1].split()))\n",
    "# print(limits)\n",
    "# print(distances)"
   ]
  },
  {
   "cell_type": "code",
   "execution_count": 3,
   "metadata": {},
   "outputs": [],
   "source": [
    "limit = int(\"\".join(input[0][1].split()))\n",
    "dist = int(\"\".join(input[1][1].split()))"
   ]
  },
  {
   "cell_type": "code",
   "execution_count": 4,
   "metadata": {},
   "outputs": [
    {
     "name": "stdout",
     "output_type": "stream",
     "text": [
      "252000\n",
      "36992486\n"
     ]
    }
   ],
   "source": [
    "import math\n",
    "\n",
    "# Part 1\n",
    "print(math.prod(sum(i * (limit - i) > dist for i in range(dist)) for limit, dist in zip(limits, distances)))\n",
    "\n",
    "# Part 2\n",
    "print(sum(i * (limit - i) > dist for i in range(limit)))"
   ]
  }
 ],
 "metadata": {
  "kernelspec": {
   "display_name": "base",
   "language": "python",
   "name": "python3"
  },
  "language_info": {
   "codemirror_mode": {
    "name": "ipython",
    "version": 3
   },
   "file_extension": ".py",
   "mimetype": "text/x-python",
   "name": "python",
   "nbconvert_exporter": "python",
   "pygments_lexer": "ipython3",
   "version": "3.11.5"
  }
 },
 "nbformat": 4,
 "nbformat_minor": 2
}
