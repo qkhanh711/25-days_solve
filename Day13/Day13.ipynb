{
 "cells": [
  {
   "cell_type": "code",
   "execution_count": 3,
   "metadata": {},
   "outputs": [
    {
     "name": "stdout",
     "output_type": "stream",
     "text": [
      "34911\n",
      "33183\n"
     ]
    }
   ],
   "source": [
    "import numpy as np\n",
    "\n",
    "with open(\"inputPart1.txt\") as f:\n",
    "    lines = [l.strip() for l in f.readlines()]\n",
    "patterns = []\n",
    "pattern = []\n",
    "while lines:\n",
    "    p = lines.pop(0)\n",
    "    if p != '':\n",
    "        pattern.append(tuple(p))\n",
    "    else:\n",
    "        patterns.append(np.array(pattern))\n",
    "        pattern = []\n",
    "patterns.append(np.array(pattern))\n",
    "patterns\n",
    "\n",
    "def solve(part = 1):\n",
    "    s = 0\n",
    "    for m in patterns:\n",
    "        rows, cols = m.shape\n",
    "        for row in range(rows):\n",
    "            shortest = min(row, rows-row) \n",
    "            if part ==1:\n",
    "                if np.all(m[row:row+shortest,:] == np.flipud(m[row-shortest:row,:])):\n",
    "                    s += row * 100\n",
    "            else:\n",
    "                matches = np.count_nonzero(m[row:row+shortest,:] == np.flipud(m[row-shortest:row,:]))\n",
    "                if matches == shortest * cols - 1:\n",
    "                    s += row * 100\n",
    "        for col in range(cols):\n",
    "            shortest = min(col, cols-col)\n",
    "            if part == 1:\n",
    "                if np.all(m[:,col:col+shortest] == np.fliplr(m[:,col-shortest:col])):\n",
    "                    s += col\n",
    "            else:\n",
    "                matches = np.count_nonzero(m[:,col:col+shortest] == np.fliplr(m[:,col-shortest:col]))\n",
    "                if matches == rows * shortest - 1:\n",
    "                    s += col\n",
    "    print(s)\n",
    "\n",
    "\n",
    "solve(1)\n",
    "solve(2)"
   ]
  },
  {
   "cell_type": "code",
   "execution_count": 5,
   "metadata": {},
   "outputs": [
    {
     "name": "stdout",
     "output_type": "stream",
     "text": [
      "34911\n",
      "33183\n"
     ]
    }
   ],
   "source": [
    "ps = list(map(str.splitlines, open('inputPart1.txt').read().split('\\n\\n')))\n",
    "\n",
    "def f(p, s):\n",
    "    for i in range(1, len(p)):\n",
    "        if sum(c1 != c2 for r1, r2 in zip(p[i-1::-1], p[i:])\n",
    "            for c1, c2 in zip(r1, r2)) == s: \n",
    "                return i\n",
    "    else: \n",
    "        return 0\n",
    "\n",
    "for s in 0, 1: \n",
    "    print(sum(100 * f(p,s) + f([*zip(*p)],s) for p in ps))\n"
   ]
  }
 ],
 "metadata": {
  "kernelspec": {
   "display_name": "base",
   "language": "python",
   "name": "python3"
  },
  "language_info": {
   "codemirror_mode": {
    "name": "ipython",
    "version": 3
   },
   "file_extension": ".py",
   "mimetype": "text/x-python",
   "name": "python",
   "nbconvert_exporter": "python",
   "pygments_lexer": "ipython3",
   "version": "3.11.5"
  }
 },
 "nbformat": 4,
 "nbformat_minor": 2
}
