{
 "cells": [
  {
   "cell_type": "code",
   "execution_count": 2,
   "metadata": {},
   "outputs": [
    {
     "data": {
      "text/plain": [
       "array([['Q4QKK', 465],\n",
       "       ['28555', 580],\n",
       "       ['JJQK2', 602],\n",
       "       ['84448', 722],\n",
       "       ['7QQ7Q', 734]], dtype=object)"
      ]
     },
     "execution_count": 2,
     "metadata": {},
     "output_type": "execute_result"
    }
   ],
   "source": [
    "import pandas as pd \n",
    "\n",
    "data = pd.read_csv('inputPart1.txt', header=None, sep=' ')\n",
    "df = pd.DataFrame(data)\n",
    "\n",
    "input_arr = df.iloc[:,:].values\n",
    "input_arr[:5]"
   ]
  },
  {
   "cell_type": "code",
   "execution_count": 1,
   "metadata": {},
   "outputs": [
    {
     "name": "stdout",
     "output_type": "stream",
     "text": [
      "5905\n"
     ]
    }
   ],
   "source": [
    "def value(card):\n",
    "    return \"J23456789TQKA\".index(card)\n",
    "\n",
    "def score(hand):\n",
    "    # Count cards of each type in hand\n",
    "    # This creates a sorting that favors the highest count, then the highest value\n",
    "    # Five of a kind:  5\n",
    "    # Four of a kind:  4 1\n",
    "    # Full house:      3 2\n",
    "    # Three of a kind: 3 1 1\n",
    "    # Two pair:        2 2 1\n",
    "    # One pair:        2 1 1 1\n",
    "    # High card:       1 1 1 1 1\n",
    "\n",
    "    counts = {}\n",
    "    for card in hand:\n",
    "        if card not in counts:\n",
    "            counts[card] = 0\n",
    "        counts[card] += 1\n",
    "    return sorted(counts.values(), reverse=True)\n",
    "\n",
    "def bestScore(hand):\n",
    "    # Assuming J is a wildcard, find the best score for this hand\n",
    "    cards=\"23456789TQKA\"\n",
    "    if 'J' in hand:\n",
    "        return max([bestScore(hand.replace('J', c, 1)) for c in cards])\n",
    "    return score(hand)\n",
    "\n",
    "# get best score and append tiebreaker values\n",
    "def tiebreak(hand):\n",
    "    sc = bestScore(hand)\n",
    "    sc.extend([value(x) for x in hand])\n",
    "    return sc\n",
    "\n",
    "input = '''32T3K 765\n",
    "T55J5 684\n",
    "KK677 28\n",
    "KTJJT 220\n",
    "QQQJA 483'''\n",
    "scored = []\n",
    "for line in input.split('\\n'):\n",
    "    hand, bid = line.split()\n",
    "    scored.append((tiebreak(hand), hand, int(bid)))\n",
    "scored.sort()\n",
    "\n",
    "mul = 1\n",
    "total = 0\n",
    "for g in scored:\n",
    "    bid = g[2]\n",
    "    total += mul * bid\n",
    "    mul += 1\n",
    "\n",
    "print(total)"
   ]
  },
  {
   "cell_type": "code",
   "execution_count": 5,
   "metadata": {},
   "outputs": [
    {
     "name": "stdout",
     "output_type": "stream",
     "text": [
      "Part 1 : 251136060\n",
      "Part 2 : 249400220\n"
     ]
    }
   ],
   "source": [
    "import collections\n",
    "lines = [i for i in open('inputPart1.txt').read().split('\\n') if i.strip()]\n",
    "def hand(h,part1):\n",
    "    if part1: h = h.replace('J', 'X')\n",
    "    h2 = ['J23456789TXQKA'.index(i)for i in h]\n",
    "    ts = []\n",
    "    for r in '23456789TQKA':\n",
    "        c = collections.Counter(h.replace('J', r))\n",
    "        p = tuple(sorted(c.values()))\n",
    "        t = [(1,1,1,1,1),(1,1,1,2),(1,2,2),(1,1,3),(2,3),(1,4),(5,)].index(p)\n",
    "        ts.append(t)\n",
    "    return (max(ts), *h2)\n",
    "for part1 in (True, False):\n",
    "    h = sorted((hand(h,part1), int(b)) for h, b in (l.split() for l in lines))\n",
    "    t = 0\n",
    "    for i,(_,b) in enumerate(h):\n",
    "        t+=i*b+b\n",
    "    print('Part', 2-part1, ':', t)\n"
   ]
  },
  {
   "cell_type": "code",
   "execution_count": null,
   "metadata": {},
   "outputs": [],
   "source": [
    "from collections import Counter\n",
    "\n",
    "with open(\"input\") as f:\n",
    "    data = f.read().strip()\n",
    "\n",
    "\n",
    "def hand_type(hand):\n",
    "    c = Counter(hand)\n",
    "    counts = [0] if (jokers := c.pop(\"*\", 0)) == 5 else sorted(c.values())\n",
    "    # The most efficient use of a joker is always as the most common non-joker card\n",
    "    counts[-1] += jokers\n",
    "    match counts:\n",
    "        case *_, 5:\n",
    "            return 7\n",
    "        case *_, 4:\n",
    "            return 6\n",
    "        case *_, 2, 3:\n",
    "            return 5\n",
    "        case *_, 3:\n",
    "            return 4\n",
    "        case *_, 2, 2:\n",
    "            return 3\n",
    "        case *_, 2:\n",
    "            return 2\n",
    "    return 1\n",
    "\n",
    "\n",
    "def solve(data):\n",
    "    ws = [l.split() for l in data.split(\"\\n\")]\n",
    "    return sum(\n",
    "        rank * bid\n",
    "        for rank, (*_, bid) in enumerate(\n",
    "            sorted(\n",
    "                (hand_type(hand), *map(\"*23456789TJQKA\".index, hand), int(bid))\n",
    "                for hand, bid in ws\n",
    "            ),\n",
    "            1,\n",
    "        )\n",
    "    )\n",
    "\n",
    "\n",
    "# Part 1\n",
    "print(solve(data))\n",
    "\n",
    "# Part 2\n",
    "print(solve(data.replace(\"J\", \"*\")))"
   ]
  }
 ],
 "metadata": {
  "kernelspec": {
   "display_name": "base",
   "language": "python",
   "name": "python3"
  },
  "language_info": {
   "codemirror_mode": {
    "name": "ipython",
    "version": 3
   },
   "file_extension": ".py",
   "mimetype": "text/x-python",
   "name": "python",
   "nbconvert_exporter": "python",
   "pygments_lexer": "ipython3",
   "version": "3.11.5"
  }
 },
 "nbformat": 4,
 "nbformat_minor": 2
}
