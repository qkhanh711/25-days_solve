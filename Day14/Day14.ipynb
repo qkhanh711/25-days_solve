{
 "cells": [
  {
   "cell_type": "code",
   "execution_count": 1,
   "metadata": {},
   "outputs": [
    {
     "data": {
      "text/plain": [
       "105208"
      ]
     },
     "execution_count": 1,
     "metadata": {},
     "output_type": "execute_result"
    }
   ],
   "source": [
    "with open(\"test.txt\", \"r\") as f:\n",
    "    lines = [line.strip() for line in f.readlines()]\n",
    "from functools import lru_cache\n",
    "def tilt_up(lines):\n",
    "    modified = True  \n",
    "    while modified:\n",
    "        modified = False  \n",
    "        for x in range(1, len(lines)):\n",
    "            for y in range(len(lines[x])):\n",
    "                if lines[x][y] == \"O\" and lines[x-1][y] == \".\":\n",
    "                    lines[x-1], lines[x] = lines[x-1][:y] + \"O\" + lines[x-1][y+1:], lines[x][:y] + \".\" + lines[x][y+1:]\n",
    "                    modified = True  \n",
    "    return lines\n",
    "# print(\"\\n\".join(lines))\n",
    "lru_cache(maxsize=128)\n",
    "lines = tilt_up(lines)\n",
    "\n",
    "# print(\"\\n\".join(lines))\n",
    "num_line = len(lines)\n",
    "# Part 1\n",
    "total = sum(lines[i].count(\"O\") * (num_line - i) for i in range(num_line))\n",
    "total\n"
   ]
  },
  {
   "cell_type": "code",
   "execution_count": 2,
   "metadata": {},
   "outputs": [],
   "source": [
    "def tilt_down(lines):\n",
    "    modified = True  \n",
    "    while modified:\n",
    "        modified = False  \n",
    "        for x in range(len(lines)-2, -1, -1):\n",
    "            for y in range(len(lines[x])):\n",
    "                if lines[x][y] == \"O\" and lines[x+1][y] == \".\":\n",
    "                    lines[x+1], lines[x] = lines[x+1][:y] + \"O\" + lines[x+1][y+1:], lines[x][:y] + \".\" + lines[x][y+1:]\n",
    "                    modified = True  \n",
    "    return lines\n",
    "\n",
    "def tilt_left(lines):\n",
    "    modified = True  \n",
    "    while modified:\n",
    "        modified = False  \n",
    "        for x in range(len(lines)):\n",
    "            for y in range(1, len(lines[x])):\n",
    "                if lines[x][y] == \"O\" and lines[x][y-1] == \".\":\n",
    "                    lines[x] = lines[x][:y-1] + \"O.\" + lines[x][y+1:]\n",
    "                    modified = True  \n",
    "    return lines\n",
    "\n",
    "def tilt_right(lines):\n",
    "    modified = True  \n",
    "    while modified:\n",
    "        modified = False  \n",
    "        for x in range(len(lines)):\n",
    "            for y in range(len(lines[x])-2, -1, -1):\n",
    "                if lines[x][y] == \"O\" and lines[x][y+1] == \".\":\n",
    "                    lines[x] = lines[x][:y] + \".O\" + lines[x][y+2:]\n",
    "                    modified = True  \n",
    "    return lines"
   ]
  },
  {
   "cell_type": "code",
   "execution_count": 3,
   "metadata": {},
   "outputs": [],
   "source": [
    "def cycle(lines):\n",
    "    lines = tilt_up(lines)\n",
    "    lines = tilt_left(lines)\n",
    "    lines = tilt_down(lines)\n",
    "    lines = tilt_right(lines)\n",
    "    return lines"
   ]
  },
  {
   "cell_type": "code",
   "execution_count": 4,
   "metadata": {},
   "outputs": [
    {
     "name": "stdout",
     "output_type": "stream",
     "text": [
      "102696 124 82\n"
     ]
    }
   ],
   "source": [
    "from itertools import count\n",
    "seen = []\n",
    "for i in count():\n",
    "    lines = cycle(lines)\n",
    "    lru_cache(maxsize=128)\n",
    "    total = sum(lines[i].count(\"O\") * (num_line - i) for i in range(num_line))\n",
    "    if i >= 5:\n",
    "        lru_cache(maxsize=128)\n",
    "        if total in seen:\n",
    "            start = seen.index(total)\n",
    "            print(total,i, start)\n",
    "            break\n",
    "    seen.append(total)"
   ]
  },
  {
   "cell_type": "code",
   "execution_count": 5,
   "metadata": {},
   "outputs": [
    {
     "data": {
      "text/plain": [
       "102943"
      ]
     },
     "execution_count": 5,
     "metadata": {},
     "output_type": "execute_result"
    }
   ],
   "source": [
    "# Part 2\n",
    "seen[(1000000000 - i) % (start - i) + i - 1]"
   ]
  },
  {
   "cell_type": "code",
   "execution_count": null,
   "metadata": {},
   "outputs": [],
   "source": []
  }
 ],
 "metadata": {
  "kernelspec": {
   "display_name": "base",
   "language": "python",
   "name": "python3"
  },
  "language_info": {
   "codemirror_mode": {
    "name": "ipython",
    "version": 3
   },
   "file_extension": ".py",
   "mimetype": "text/x-python",
   "name": "python",
   "nbconvert_exporter": "python",
   "pygments_lexer": "ipython3",
   "version": "3.11.5"
  }
 },
 "nbformat": 4,
 "nbformat_minor": 2
}
