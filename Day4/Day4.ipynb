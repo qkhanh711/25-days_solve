{
 "cells": [
  {
   "cell_type": "markdown",
   "metadata": {},
   "source": [
    "# Part 1"
   ]
  },
  {
   "cell_type": "code",
   "execution_count": 1,
   "metadata": {},
   "outputs": [],
   "source": [
    "import pandas as pd\n",
    "data = pd.read_csv('inputPart1.txt', header=None, sep=':')\n",
    "input = data.iloc[:, 1].values\n",
    "\n",
    "# list(map(int,input[0].split('|')[1].split()))\n",
    "def convert_to_int(input):\n",
    "    new =[]\n",
    "    for i in range(len(input.split('|'))):\n",
    "        new.append(list(map(int,input.split('|')[i].split())))\n",
    "    return new\n",
    "    \n",
    "new_input = []\n",
    "for i in range(len(input)):\n",
    "    new_input.append(convert_to_int(input[i]))"
   ]
  },
  {
   "cell_type": "code",
   "execution_count": 2,
   "metadata": {},
   "outputs": [
    {
     "name": "stdout",
     "output_type": "stream",
     "text": [
      "15268\n"
     ]
    }
   ],
   "source": [
    "wins = [len(set(n[0]) & set(n[1])) for n in new_input]\n",
    "print(sum(2 ** (w - 1) if w > 0 else 0 for w in wins))"
   ]
  },
  {
   "cell_type": "markdown",
   "metadata": {},
   "source": [
    "# Part 2"
   ]
  },
  {
   "cell_type": "code",
   "execution_count": 3,
   "metadata": {},
   "outputs": [
    {
     "name": "stdout",
     "output_type": "stream",
     "text": [
      "6283755\n"
     ]
    }
   ],
   "source": [
    "cards = [1] * len(new_input)\n",
    "res = 0\n",
    "for i in range(len(cards)):\n",
    "    res += cards[i]\n",
    "    for j in range(i + 1, i + wins[i] + 1):\n",
    "        cards[j] += cards[i]\n",
    "print(res)"
   ]
  },
  {
   "cell_type": "code",
   "execution_count": 4,
   "metadata": {},
   "outputs": [
    {
     "name": "stdout",
     "output_type": "stream",
     "text": [
      "['Card   1:  4 16 87 61 11 37 43 25 49 17 | 54 36 14 55 83 58 43 15 87 17 97 11 62 75 37  4 49 80 42 61 20 79 25 24 16', 'Card   2: 15 53 49 30 36 68 76 12  2 73 |  3 18 33 27 34 75  5 29 57 89 96 51 85 41  4 46 30 79 78 43 23 36 73 53 98', 'Card   3: 47 63 83 92 61 40 42 46 48 45 | 48 43  8 49 77 80 56 50  7 31 13 70 74 37 92  1 20 25 76 90 81  9 52 24 16', 'Card   4: 67 55 70 16 95 64 27 10 48 62 |  6 36 54 22 85 27 73 29 74 96 11 62 48 38 90 94 70 12 67 17 64 95 18 37 55', 'Card   5: 27 94 48 79 51 46 63 69 50 84 | 15 53 62 45 21 66 84 51 29 40 25 43 27 88 79 63  3 54 48 23 90 69 94 74 36']\n",
      "[[1, 4, 16, 87, 61, 11, 37, 43, 25, 49, 17, 54, 36, 14, 55, 83, 58, 43, 15, 87, 17, 97, 11, 62, 75, 37, 4, 49, 80, 42, 61, 20, 79, 25, 24, 16], [2, 15, 53, 49, 30, 36, 68, 76, 12, 2, 73, 3, 18, 33, 27, 34, 75, 5, 29, 57, 89, 96, 51, 85, 41, 4, 46, 30, 79, 78, 43, 23, 36, 73, 53, 98], [3, 47, 63, 83, 92, 61, 40, 42, 46, 48, 45, 48, 43, 8, 49, 77, 80, 56, 50, 7, 31, 13, 70, 74, 37, 92, 1, 20, 25, 76, 90, 81, 9, 52, 24, 16], [4, 67, 55, 70, 16, 95, 64, 27, 10, 48, 62, 6, 36, 54, 22, 85, 27, 73, 29, 74, 96, 11, 62, 48, 38, 90, 94, 70, 12, 67, 17, 64, 95, 18, 37, 55], [5, 27, 94, 48, 79, 51, 46, 63, 69, 50, 84, 15, 53, 62, 45, 21, 66, 84, 51, 29, 40, 25, 43, 27, 88, 79, 63, 3, 54, 48, 23, 90, 69, 94, 74, 36]]\n",
      "[10, 4, 2, 8, 8]\n",
      "15268\n",
      "6283755\n"
     ]
    }
   ],
   "source": [
    "import re\n",
    "\n",
    "with open(\"inputPart1.txt\") as f:\n",
    "    ls = f.read().strip().split(\"\\n\")\n",
    "\n",
    "print(ls[:5])\n",
    "\n",
    "ns = [list(map(int, re.findall(r\"\\d+\", x))) for x in ls]\n",
    "print(ns[:5])\n",
    "\n",
    "wins = [len(set(n[11:]) & set(n[1:11])) for n in ns]\n",
    "print(wins[:5])\n",
    "\n",
    "print(sum(2 ** (w - 1) if w > 0 else 0 for w in wins))\n",
    "\n",
    "\n",
    "cards = [1] * len(ns)\n",
    "res = 0\n",
    "for i in range(len(cards)):\n",
    "    res += cards[i]\n",
    "    for j in range(i + 1, i + wins[i] + 1):\n",
    "        cards[j] += cards[i]\n",
    "print(res)"
   ]
  }
 ],
 "metadata": {
  "kernelspec": {
   "display_name": "base",
   "language": "python",
   "name": "python3"
  },
  "language_info": {
   "codemirror_mode": {
    "name": "ipython",
    "version": 3
   },
   "file_extension": ".py",
   "mimetype": "text/x-python",
   "name": "python",
   "nbconvert_exporter": "python",
   "pygments_lexer": "ipython3",
   "version": "3.11.5"
  }
 },
 "nbformat": 4,
 "nbformat_minor": 2
}
