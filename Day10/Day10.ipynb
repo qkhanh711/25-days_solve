{
 "cells": [
  {
   "cell_type": "markdown",
   "metadata": {},
   "source": [
    "# Part 1"
   ]
  },
  {
   "cell_type": "code",
   "execution_count": 2,
   "metadata": {},
   "outputs": [
    {
     "name": "stdout",
     "output_type": "stream",
     "text": [
      "6947\n"
     ]
    }
   ],
   "source": [
    "with open(\"inputPart1.txt\",\"r\") as f:\n",
    "\tinput_txt=f.read()\n",
    "maze=input_txt.split(\"\\n\")\n",
    "H=len(maze)\n",
    "W=len(maze[0])\n",
    "\n",
    "O = [[0]*W for _ in range(H)] # part 2\n",
    "ax = -1\n",
    "ay = -1\n",
    "for i in range(H):\n",
    "\tfor j in range(W):\n",
    "\t\tif \"S\" in maze[i]:\n",
    "\t\t\tax=i\n",
    "\t\t\tay=maze[i].find(\"S\")\n",
    "# print(ax,ay)\n",
    "\n",
    "dirs = [(0,1),(1,0),(0,-1),(-1,0)]\n",
    "happy = [\"-7J\", \"|LJ\", \"-FL\", \"|F7\"]\n",
    "Sdirs = []\n",
    "for i in range(4):\n",
    "\tpos = dirs[i]\n",
    "\tbx = ax+pos[0]\n",
    "\tby = ay+pos[1]\n",
    "\tif bx>=0 and bx<=H and by>=0 and by<=W and G[bx][by] in happy[i]:\n",
    "\t\tSdirs.append(i)\n",
    "# print(Sdirs)\n",
    "Svalid = 3 in Sdirs \n",
    "\n",
    "transform = {\n",
    "\t(0,\"-\"): 0,\n",
    "\t(0,\"7\"): 1,\n",
    "\t(0,\"J\"): 3,\n",
    "\t(2,\"-\"): 2,\n",
    "\t(2,\"F\"): 1,\n",
    "\t(2,\"L\"): 3,\n",
    "\t(1,\"|\"): 1,\n",
    "\t(1,\"L\"): 0,\n",
    "\t(1,\"J\"): 2,\n",
    "\t(3,\"|\"): 3,\n",
    "\t(3,\"F\"): 0,\n",
    "\t(3,\"7\"): 2,\n",
    "}\n",
    "\n",
    "curdir = Sdirs[0]\n",
    "cx = ax + dirs[curdir][0]\n",
    "cy = ay + dirs[curdir][1]\n",
    "ln = 1\n",
    "O[ax][ay] = 1 \n",
    "while (cx,cy)!=(ax,ay):\n",
    "\tO[cx][cy] = 1 \n",
    "\tln += 1\n",
    "\tcurdir = transform[(curdir,G[cx][cy])]\n",
    "\tcx = cx + dirs[curdir][0]\n",
    "\tcy = cy + dirs[curdir][1]\n",
    "# print(ln)\n",
    "print(ln//2)\n",
    "\n"
   ]
  },
  {
   "cell_type": "markdown",
   "metadata": {},
   "source": [
    "# Part 2"
   ]
  },
  {
   "cell_type": "code",
   "execution_count": 3,
   "metadata": {},
   "outputs": [
    {
     "name": "stdout",
     "output_type": "stream",
     "text": [
      "273\n"
     ]
    }
   ],
   "source": [
    "# Part 2\n",
    "ct = 0\n",
    "for i in range(H):\n",
    "\tinn = False\n",
    "\tfor j in range(W):\n",
    "\t\tif O[i][j]:\n",
    "\t\t\tif maze[i][j] in \"|JL\" or (maze[i][j]==\"S\" and Svalid): inn = not inn\n",
    "\t\telse:\n",
    "\t\t\tct += inn\n",
    "print(ct)"
   ]
  }
 ],
 "metadata": {
  "kernelspec": {
   "display_name": "base",
   "language": "python",
   "name": "python3"
  },
  "language_info": {
   "codemirror_mode": {
    "name": "ipython",
    "version": 3
   },
   "file_extension": ".py",
   "mimetype": "text/x-python",
   "name": "python",
   "nbconvert_exporter": "python",
   "pygments_lexer": "ipython3",
   "version": "3.11.5"
  }
 },
 "nbformat": 4,
 "nbformat_minor": 2
}
