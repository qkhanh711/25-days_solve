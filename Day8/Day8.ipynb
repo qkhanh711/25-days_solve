{
 "cells": [
  {
   "cell_type": "code",
   "execution_count": 1,
   "metadata": {},
   "outputs": [
    {
     "name": "stdout",
     "output_type": "stream",
     "text": [
      "15517\n",
      "14935034899483\n"
     ]
    }
   ],
   "source": [
    "import re\n",
    "from itertools import count\n",
    "from math import lcm\n",
    "\n",
    "with open(\"inputPart1.txt\") as f:\n",
    "    ws = [re.findall(\"\\w+\", l) for l in f.read().strip().split(\"\\n\")]\n",
    "\n",
    "dirs = ws[0][0]\n",
    "left = {start: l for start, l, _ in ws[2:]}\n",
    "right = {start: r for start, _, r in ws[2:]}\n",
    "\n",
    "\n",
    "def length(here, part1):\n",
    "    for i in count():\n",
    "        here = left[here] if dirs[i % len(dirs)] == \"L\" else right[here]\n",
    "        if (part1 and here == \"ZZZ\") or (not part1 and here[-1] == \"Z\"):\n",
    "            return i + 1\n",
    "\n",
    "\n",
    "# Part 1\n",
    "print(length(\"AAA\", True))\n",
    "\n",
    "# Part 2\n",
    "starts = [start for start, _, _ in ws[2:] if start[-1] == \"A\"]\n",
    "print(lcm(*(length(start, False) for start in starts)))"
   ]
  }
 ],
 "metadata": {
  "kernelspec": {
   "display_name": "base",
   "language": "python",
   "name": "python3"
  },
  "language_info": {
   "codemirror_mode": {
    "name": "ipython",
    "version": 3
   },
   "file_extension": ".py",
   "mimetype": "text/x-python",
   "name": "python",
   "nbconvert_exporter": "python",
   "pygments_lexer": "ipython3",
   "version": "3.11.5"
  }
 },
 "nbformat": 4,
 "nbformat_minor": 2
}
