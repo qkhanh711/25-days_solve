{
 "cells": [
  {
   "cell_type": "markdown",
   "metadata": {},
   "source": [
    "# Part1\n",
    "\n",
    "You play several games and record the information from each game (your puzzle input). Each game is listed with its ID number (like the 11 in Game 11: ...) followed by a semicolon-separated list of subsets of cubes that were revealed from the bag (like 3 red, 5 green, 4 blue).\n",
    "\n",
    "For example, the record of a few games might look like this:\n",
    "\n",
    "Game 1: 3 blue, 4 red; 1 red, 2 green, 6 blue; 2 green\n",
    "Game 2: 1 blue, 2 green; 3 green, 4 blue, 1 red; 1 green, 1 blue\n",
    "Game 3: 8 green, 6 blue, 20 red; 5 blue, 4 red, 13 green; 5 green, 1 red\n",
    "Game 4: 1 green, 3 red, 6 blue; 3 green, 6 red; 3 green, 15 blue, 14 red\n",
    "Game 5: 6 red, 1 blue, 3 green; 2 blue, 1 red, 2 green\n",
    "\n",
    "In game 1, three sets of cubes are revealed from the bag (and then put back again). The first set is 3 blue cubes and 4 red cubes; the second set is 1 red cube, 2 green cubes, and 6 blue cubes; the third set is only 2 green cubes.\n",
    "\n",
    "The Elf would first like to know which games would have been possible if the bag contained only 12 red cubes, 13 green cubes, and 14 blue cubes?\n",
    "\n",
    "In the example above, games 1, 2, and 5 would have been possible if the bag had been loaded with that configuration. However, game 3 would have been impossible because at one point the Elf showed you 20 red cubes at once; similarly, game 4 would also have been impossible because the Elf showed you 15 blue cubes at once. If you add up the IDs of the games that would have been possible, you get 8.\n",
    "\n",
    "Determine which games would have been possible if the bag had been loaded with only 12 red cubes, 13 green cubes, and 14 blue cubes. What is the sum of the IDs of those games?"
   ]
  },
  {
   "cell_type": "code",
   "execution_count": 14,
   "metadata": {},
   "outputs": [],
   "source": [
    "import pandas as pd\n",
    "import numpy as np\n",
    "\n",
    "df = pd.read_csv('inputPart1.txt', header=None, sep=':')\n",
    "df.head()\n",
    "data = pd.DataFrame(df)\n",
    "# print(data)\n",
    "# type(input)\n",
    "input = data.iloc[:,1].values"
   ]
  },
  {
   "cell_type": "code",
   "execution_count": 16,
   "metadata": {},
   "outputs": [
    {
     "data": {
      "text/plain": [
       "array([' 1 blue, 1 red; 10 red; 8 red, 1 blue, 1 green; 1 green, 5 blue',\n",
       "       ' 9 green, 11 red; 1 green, 7 red, 1 blue; 1 red, 1 blue, 1 green; 11 green, 3 red, 1 blue; 5 green, 12 red; 8 green, 1 blue, 7 red',\n",
       "       ' 16 blue, 2 red, 4 green; 8 red, 4 green; 7 green, 16 blue',\n",
       "       ' 3 green, 4 blue, 6 red; 7 red, 12 green, 5 blue; 5 green, 16 red, 8 blue',\n",
       "       ' 4 green, 4 blue, 3 red; 4 green, 7 red, 1 blue; 2 blue, 2 red, 4 green; 3 green, 7 red, 4 blue; 2 blue, 3 green, 8 red'],\n",
       "      dtype=object)"
      ]
     },
     "execution_count": 16,
     "metadata": {},
     "output_type": "execute_result"
    }
   ],
   "source": [
    "input[:5]"
   ]
  },
  {
   "cell_type": "code",
   "execution_count": 13,
   "metadata": {},
   "outputs": [
    {
     "name": "stdout",
     "output_type": "stream",
     "text": [
      "Possible games: [1, 2, 5, 7, 9, 10, 12, 14, 17, 20, 23, 24, 25, 29, 32, 35, 36, 37, 40, 45, 46, 47, 49, 50, 51, 52, 53, 54, 58, 62, 64, 65, 67, 68, 70, 73, 79, 81, 84, 86, 88, 90, 91, 94, 97, 98, 99, 100]\n",
      "Sum of IDs: 2439\n"
     ]
    }
   ],
   "source": [
    "games = input\n",
    "\n",
    "red_cubes = 12\n",
    "green_cubes = 13\n",
    "blue_cubes = 14\n",
    "\n",
    "possible_games = []\n",
    "\n",
    "for i, game in enumerate(games):\n",
    "    game_sets = game.split(\"; \")\n",
    "    is_possible = True\n",
    "\n",
    "    for game_set in game_sets:\n",
    "        colors = game_set.split(\", \")\n",
    "        for color in colors:\n",
    "            count = int(color.split()[0])\n",
    "            color_type = color.split()[1]\n",
    "\n",
    "            if color_type == \"red\" and count > red_cubes:\n",
    "                is_possible = False\n",
    "                break\n",
    "            elif color_type == \"green\" and count > green_cubes:\n",
    "                is_possible = False\n",
    "                break\n",
    "            elif color_type == \"blue\" and count > blue_cubes:\n",
    "                is_possible = False\n",
    "                break\n",
    "\n",
    "    if is_possible:\n",
    "        possible_games.append(i + 1)\n",
    "\n",
    "sum_of_ids = sum(possible_games)\n",
    "print(\"Possible games:\", possible_games)\n",
    "print(\"Sum of IDs:\", sum_of_ids)\n"
   ]
  },
  {
   "cell_type": "markdown",
   "metadata": {},
   "source": [
    "# Part2\n",
    "\n",
    "--- Part Two ---\n",
    "\n",
    "The Elf says they've stopped producing snow because they aren't getting any water! He isn't sure why the water stopped; however, he can show you how to get to the water source to check it out for yourself. It's just up ahead!\n",
    "\n",
    "As you continue your walk, the Elf poses a second question: in each game you played, what is the fewest number of cubes of each color that could have been in the bag to make the game possible?\n",
    "\n",
    "Again consider the example games from earlier:\n",
    "\n",
    "Game 1: 3 blue, 4 red; 1 red, 2 green, 6 blue; 2 green\n",
    "Game 2: 1 blue, 2 green; 3 green, 4 blue, 1 red; 1 green, 1 blue\n",
    "Game 3: 8 green, 6 blue, 20 red; 5 blue, 4 red, 13 green; 5 green, 1 red\n",
    "Game 4: 1 green, 3 red, 6 blue; 3 green, 6 red; 3 green, 15 blue, 14 red\n",
    "Game 5: 6 red, 1 blue, 3 green; 2 blue, 1 red, 2 green\n",
    "\n",
    "    In game 1, the game could have been played with as few as 4 red, 2 green, and 6 blue cubes. If any color had even one fewer cube, the game would have been impossible.\n",
    "    Game 2 could have been played with a minimum of 1 red, 3 green, and 4 blue cubes.\n",
    "    Game 3 must have been played with at least 20 red, 13 green, and 6 blue cubes.\n",
    "    Game 4 required at least 14 red, 3 green, and 15 blue cubes.\n",
    "    Game 5 needed no fewer than 6 red, 3 green, and 2 blue cubes in the bag.\n"
   ]
  },
  {
   "cell_type": "code",
   "execution_count": 17,
   "metadata": {},
   "outputs": [],
   "source": [
    "import pandas as pd\n",
    "import numpy as np\n",
    "\n",
    "df = pd.read_csv('inputPart1.txt', header=None, sep=':')\n",
    "df.head()\n",
    "data = pd.DataFrame(df)\n",
    "# print(data)\n",
    "# type(input)\n",
    "input = data.iloc[:,1].values"
   ]
  },
  {
   "cell_type": "code",
   "execution_count": 22,
   "metadata": {},
   "outputs": [
    {
     "name": "stdout",
     "output_type": "stream",
     "text": [
      "maximum cubes for each game: [(10, 1, 5), (12, 11, 1), (8, 7, 16), (16, 12, 8), (8, 4, 4), (14, 3, 4), (12, 3, 14), (3, 18, 15), (8, 10, 2), (9, 12, 8), (15, 3, 1), (9, 7, 8), (2, 18, 8), (3, 5, 4), (3, 7, 15), (6, 13, 20), (4, 1, 11), (16, 17, 2), (8, 17, 9), (6, 13, 3), (11, 13, 15), (5, 15, 3), (7, 2, 6), (7, 9, 9), (5, 5, 4), (5, 15, 7), (8, 15, 4), (13, 14, 3), (10, 13, 3), (13, 3, 13), (10, 16, 8), (11, 9, 7), (14, 12, 11), (15, 7, 6), (11, 4, 11), (7, 9, 13), (6, 12, 5), (12, 10, 16), (19, 4, 6), (1, 5, 6), (7, 6, 17), (11, 14, 7), (1, 17, 11), (14, 17, 11), (1, 11, 6), (4, 9, 3), (6, 11, 11), (15, 15, 13), (4, 8, 6), (1, 9, 6), (8, 9, 8), (8, 3, 8), (9, 3, 9), (3, 6, 1), (14, 5, 8), (6, 13, 17), (14, 10, 10), (11, 5, 14), (5, 17, 10), (19, 4, 14), (8, 1, 15), (7, 2, 10), (19, 1, 2), (11, 3, 4), (4, 12, 1), (16, 16, 4), (12, 1, 2), (7, 5, 9), (9, 16, 16), (7, 13, 12), (16, 6, 7), (6, 15, 4), (9, 1, 12), (4, 17, 6), (17, 14, 2), (4, 18, 5), (16, 6, 5), (9, 18, 3), (3, 12, 10), (14, 12, 3), (9, 1, 6), (15, 20, 3), (6, 11, 16), (3, 11, 3), (7, 11, 19), (11, 9, 3), (13, 3, 17), (1, 12, 6), (8, 19, 13), (6, 9, 12), (4, 7, 14), (7, 6, 18), (14, 11, 17), (7, 7, 9), (5, 15, 7), (5, 5, 15), (6, 3, 11), (11, 10, 11), (5, 11, 12), (7, 1, 5)]\n",
      "Sum of game powers: 63711\n"
     ]
    }
   ],
   "source": [
    "games = input\n",
    "\n",
    "max_cubes = []\n",
    "game_powers = []\n",
    "\n",
    "for game in games:\n",
    "    game_sets = game.split(\"; \")\n",
    "    max_red = 0\n",
    "    max_green = 0\n",
    "    max_blue = 0\n",
    "\n",
    "    for game_set in game_sets:\n",
    "        colors = game_set.split(\", \")\n",
    "        for color in colors:\n",
    "            count = int(color.split()[0])\n",
    "            color_type = color.split()[1]\n",
    "\n",
    "            if color_type == \"red\":\n",
    "                max_red = max(max_red, count)\n",
    "            elif color_type == \"green\":\n",
    "                max_green = max(max_green, count)\n",
    "            elif color_type == \"blue\":\n",
    "                max_blue = max(max_blue, count)\n",
    "\n",
    "    max_cubes.append((max_red, max_green, max_blue))\n",
    "    game_power = max_red * max_green * max_blue\n",
    "    game_powers.append(game_power)\n",
    "\n",
    "total_power = sum(game_powers)\n",
    "\n",
    "print(\"maximum cubes for each game:\", max_cubes)\n",
    "print(\"Sum of game powers:\", total_power)\n"
   ]
  },
  {
   "cell_type": "code",
   "execution_count": null,
   "metadata": {},
   "outputs": [],
   "source": []
  },
  {
   "cell_type": "code",
   "execution_count": null,
   "metadata": {},
   "outputs": [],
   "source": []
  }
 ],
 "metadata": {
  "kernelspec": {
   "display_name": "base",
   "language": "python",
   "name": "python3"
  },
  "language_info": {
   "codemirror_mode": {
    "name": "ipython",
    "version": 3
   },
   "file_extension": ".py",
   "mimetype": "text/x-python",
   "name": "python",
   "nbconvert_exporter": "python",
   "pygments_lexer": "ipython3",
   "version": "3.11.5"
  }
 },
 "nbformat": 4,
 "nbformat_minor": 2
}
