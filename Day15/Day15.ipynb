{
 "cells": [
  {
   "cell_type": "code",
   "execution_count": 134,
   "metadata": {},
   "outputs": [],
   "source": [
    "def encode(input_str):\n",
    "    current_value = 0\n",
    "    hash_state = []\n",
    "    for i in range(len(input_str)):\n",
    "        ascii_str_value = ord(input_str[i])\n",
    "        current_value += ascii_str_value\n",
    "        current_value = current_value * 17 \n",
    "        hash_state.append(current_value % 256)\n",
    "    return hash_state\n",
    "    "
   ]
  },
  {
   "cell_type": "code",
   "execution_count": 143,
   "metadata": {},
   "outputs": [
    {
     "data": {
      "text/plain": [
       "136"
      ]
     },
     "execution_count": 143,
     "metadata": {},
     "output_type": "execute_result"
    }
   ],
   "source": [
    "encode('kgf')[-1]"
   ]
  },
  {
   "cell_type": "code",
   "execution_count": 135,
   "metadata": {},
   "outputs": [
    {
     "data": {
      "text/plain": [
       "'fb-'"
      ]
     },
     "execution_count": 135,
     "metadata": {},
     "output_type": "execute_result"
    }
   ],
   "source": [
    "import pandas as pd\n",
    "input_list = pd.read_csv(\"inputPart1.txt\", header=None, sep = \",\")\n",
    "df = pd.DataFrame(input_list)\n",
    "elements = df.iloc[0][:].values\n",
    "elements.tolist()\n",
    "elements[0]"
   ]
  },
  {
   "cell_type": "code",
   "execution_count": 136,
   "metadata": {},
   "outputs": [
    {
     "data": {
      "text/plain": [
       "513158"
      ]
     },
     "execution_count": 136,
     "metadata": {},
     "output_type": "execute_result"
    }
   ],
   "source": [
    "def hash(elements):\n",
    "    result = [encode(i)[-1:] for i in elements]\n",
    "    return [i[0] for i in result]\n",
    "\n",
    "#  Part 1\n",
    "result = sum(hash(elements))\n",
    "result"
   ]
  },
  {
   "cell_type": "code",
   "execution_count": 145,
   "metadata": {},
   "outputs": [
    {
     "name": "stdout",
     "output_type": "stream",
     "text": [
      "[{}, {}, {'lrd': 7, 'lcc': 1}, {}, {'hxd': 3, 'nv': 3}, {'cqq': 5, 'xgf': 4}, {}, {'sptrn': 5}, {'bbd': 9}, {'lkr': 8}, {'rhstqx': 2, 'vjfd': 7}, {'hs': 2, 'sgdm': 6}, {}, {'vg': 5}, {'tgc': 9, 'tz': 8}, {'svv': 3, 'tk': 8}, {'jvld': 7, 'sm': 6}, {'cgg': 7, 'zgp': 3}, {}, {'ps': 9}, {'zfhl': 3}, {}, {}, {'mj': 2}, {}, {'psmcv': 7}, {'tckh': 2}, {}, {}, {'gv': 8}, {'vh': 4, 'xftl': 7, 'qrsptd': 6, 'fx': 5}, {}, {'dcfs': 5, 'tl': 3}, {'tcdnx': 7}, {}, {}, {}, {'blts': 2}, {}, {}, {'dnv': 5, 'mk': 8, 'hhffl': 2}, {'bcd': 2}, {'zp': 7}, {'mjd': 4, 'jq': 4}, {'dzn': 8, 'jb': 3}, {}, {'thr': 8}, {'gh': 2}, {'qmb': 1, 'fj': 1}, {}, {}, {'cp': 5}, {}, {}, {}, {}, {'dsns': 8}, {}, {'rqg': 9, 'ln': 2, 'kpmr': 4}, {'vmjvdd': 8, 'zq': 7}, {}, {}, {'nczs': 8}, {'hg': 3}, {'dxd': 1}, {'nrq': 6}, {}, {}, {}, {'lsf': 9, 'rc': 8}, {}, {'pg': 3, 'ngzh': 3, 'gzv': 2, 'dbq': 2}, {}, {'kkmsc': 8}, {}, {'rbg': 6}, {}, {'kb': 1, 'js': 6}, {'jvsgmg': 5, 'jbbtl': 6}, {'mtlb': 1, 'hqv': 7}, {'vz': 2}, {'dtfc': 7}, {}, {'cbrkq': 7}, {'sq': 4}, {'lsv': 6}, {'rd': 8, 'hfqg': 9, 'gfkzd': 3}, {'nzrql': 8}, {}, {'qfr': 4, 'vlgp': 3}, {'csrb': 4, 'rjfx': 8, 'kbm': 5, 'hphz': 7}, {}, {'ghm': 1, 'lp': 8}, {'zs': 1, 'kr': 5}, {}, {}, {'xh': 6}, {}, {}, {'shx': 2}, {}, {'cqcks': 2, 'kgs': 2}, {}, {}, {'bf': 1}, {'tbc': 9}, {'jvvt': 4}, {}, {}, {}, {'xdr': 1, 'ks': 1}, {'hllngz': 3}, {'xx': 7, 'tzb': 9}, {'skpvm': 9, 'xbg': 1}, {}, {'mfp': 7, 'gl': 5}, {}, {'fzbc': 4}, {'fhfb': 7, 'mrlmn': 2}, {'ktpdxl': 3, 'hkhl': 2, 'sd': 3}, {}, {'bg': 8}, {'sct': 8}, {}, {}, {'rqz': 1, 'fvqp': 1}, {'lnd': 9}, {'nhpgr': 8}, {'mgdcbs': 9}, {'lzzjgp': 8}, {'dzd': 8, 'bnr': 1}, {'bmt': 8}, {'xthp': 9}, {}, {'zjb': 2}, {'xls': 7, 'ds': 1}, {'kgf': 7}, {'cf': 4}, {}, {'bgb': 3}, {}, {'zlfqp': 4, 'vzm': 8}, {}, {}, {'nhz': 4, 'ld': 3}, {'hbcd': 3}, {}, {}, {}, {'mvb': 1}, {'rzj': 8, 'dhj': 6, 'crkv': 1}, {}, {'jxv': 7}, {}, {'mhng': 6}, {}, {}, {'fmj': 1, 'dlflk': 6}, {'jhdh': 8, 'np': 6, 'jhbpln': 9, 'pvx': 5}, {'mr': 5, 'zcb': 2, 'kpt': 1}, {'mc': 7, 'lt': 2}, {}, {'cnq': 8}, {}, {}, {'hm': 1}, {'vp': 7}, {'bkz': 8}, {'lfv': 5, 'ccxz': 3}, {}, {}, {'tsd': 4, 'mqm': 3, 'ch': 1}, {'rvd': 9}, {'jfm': 4}, {'qbkp': 5, 'clcvf': 9}, {'lpc': 4, 'nq': 6}, {}, {'fkhh': 4}, {'mglgk': 2}, {'jxznrg': 1}, {'pbhz': 5}, {'prc': 3, 'lqfb': 3}, {'cgth': 4, 'ntt': 5}, {'gp': 3}, {'fr': 3}, {'mdx': 3}, {'mtvs': 8}, {'cx': 1, 'ttc': 1, 'mrl': 4}, {'bz': 8}, {'glz': 4}, {'csx': 6}, {'dqj': 2}, {'rsk': 1, 'pvz': 1, 'nr': 2, 'hdtvj': 2}, {'jnvc': 2}, {}, {'jbg': 6}, {}, {}, {'zvpf': 2, 'kbvs': 8}, {'mvt': 2}, {}, {}, {'nbz': 5, 'crzk': 2}, {'sx': 4}, {}, {'qjnd': 5}, {}, {}, {'zdr': 1}, {}, {'fbzp': 7}, {'xsbrcq': 1, 'mf': 5}, {'lh': 8, 'vhv': 3}, {'zk': 4}, {'dzx': 5}, {}, {}, {'jmb': 3}, {}, {'kxh': 7, 'rpdbc': 2}, {'th': 8}, {'gnx': 6}, {'rl': 8}, {'rlhbg': 9, 'ctrv': 3, 'bm': 4}, {'plgkb': 9}, {'hfpxsx': 7, 'dbk': 3}, {'vzr': 4}, {}, {}, {'srpp': 5}, {'tlf': 8}, {'jm': 2}, {'xp': 5, 'qfmd': 5}, {}, {'gs': 1}, {'gd': 6}, {}, {}, {'tdv': 8}, {'cl': 8}, {'bn': 2}, {'drk': 6, 'pq': 2}, {}, {}, {}, {'fkd': 1, 'cjbvjf': 6}, {'lj': 8}, {'dmf': 3, 'zm': 4}, {'kmp': 1}, {'xq': 5, 'slj': 3}, {'hbp': 9}, {}, {'vf': 9, 'psrg': 6}, {}, {}, {'xnqh': 5, 'dk': 1}]\n"
     ]
    },
    {
     "data": {
      "text/plain": [
       "200277"
      ]
     },
     "execution_count": 145,
     "metadata": {},
     "output_type": "execute_result"
    }
   ],
   "source": [
    "import re\n",
    "boxes = [{} for i in range(256)]\n",
    "for x in elements:\n",
    "    label = re.findall(r'[a-z]+', x)[0]\n",
    "    box = boxes[encode(label)[-1]]\n",
    "    if \"=\" in x:\n",
    "        box[label] = int(x[-1:])\n",
    "    else:\n",
    "        box.pop(label, None)\n",
    "print(boxes)\n",
    "\n",
    "sum((k+1)*(i+1)*v for k, v in enumerate(boxes) for i, v in enumerate(v.values()))"
   ]
  }
 ],
 "metadata": {
  "kernelspec": {
   "display_name": "base",
   "language": "python",
   "name": "python3"
  },
  "language_info": {
   "codemirror_mode": {
    "name": "ipython",
    "version": 3
   },
   "file_extension": ".py",
   "mimetype": "text/x-python",
   "name": "python",
   "nbconvert_exporter": "python",
   "pygments_lexer": "ipython3",
   "version": "3.11.5"
  }
 },
 "nbformat": 4,
 "nbformat_minor": 2
}
