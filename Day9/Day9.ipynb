{
 "cells": [
  {
   "cell_type": "code",
   "execution_count": 1,
   "metadata": {},
   "outputs": [
    {
     "name": "stdout",
     "output_type": "stream",
     "text": [
      "1969958987\n",
      "1068\n"
     ]
    }
   ],
   "source": [
    "import re\n",
    "\n",
    "import numpy as np\n",
    "\n",
    "with open(\"inputPart1.txt\") as f:\n",
    "    ls = f.read().strip().split(\"\\n\")\n",
    "\n",
    "ns = np.array([list(map(int, re.findall(r\"-?\\d+\", x))) for x in ls])\n",
    "\n",
    "\n",
    "# Part 1+2\n",
    "for a in (ns, np.flip(ns, 1)):\n",
    "    print(np.sum([np.diff(a, k)[:,-1] for k in range(ns.shape[1])]))"
   ]
  }
 ],
 "metadata": {
  "kernelspec": {
   "display_name": "base",
   "language": "python",
   "name": "python3"
  },
  "language_info": {
   "codemirror_mode": {
    "name": "ipython",
    "version": 3
   },
   "file_extension": ".py",
   "mimetype": "text/x-python",
   "name": "python",
   "nbconvert_exporter": "python",
   "pygments_lexer": "ipython3",
   "version": "3.11.5"
  }
 },
 "nbformat": 4,
 "nbformat_minor": 2
}
