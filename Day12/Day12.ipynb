{
 "cells": [
  {
   "cell_type": "code",
   "execution_count": 3,
   "metadata": {},
   "outputs": [
    {
     "name": "stdout",
     "output_type": "stream",
     "text": [
      "6981\n",
      "4546215031609\n"
     ]
    }
   ],
   "source": [
    "from functools import cache\n",
    "\n",
    "with open(\"inputPart1.txt\") as f:\n",
    "    ws = [l.split() for l in f.read().strip().split(\"\\n\")]\n",
    "\n",
    "\n",
    "@cache\n",
    "def num_solutions(s, sizes, num_done_in_group=0):\n",
    "    if not s:\n",
    "        return not sizes and not num_done_in_group\n",
    "    num_sols = 0\n",
    "    possible = [\".\", \"#\"] if s[0] == \"?\" else s[0]\n",
    "    for c in possible:\n",
    "        if c == \"#\":\n",
    "            num_sols += num_solutions(s[1:], sizes, num_done_in_group + 1)\n",
    "        else:\n",
    "            if num_done_in_group:\n",
    "                if sizes and sizes[0] == num_done_in_group:\n",
    "                    num_sols += num_solutions(s[1:], sizes[1:])\n",
    "            else:\n",
    "                num_sols += num_solutions(s[1:], sizes)\n",
    "    return num_sols\n",
    "\n",
    "\n",
    "rows = [(w1, tuple(map(int, w2.split(\",\")))) for w1, w2 in ws]\n",
    "\n",
    "# Part 1\n",
    "print(sum(num_solutions(group + \".\", sizes) for group, sizes in rows))\n",
    "\n",
    "# Part 2\n",
    "print(sum(num_solutions(\"?\".join([group] * 5) + \".\", sizes * 5) for group, sizes in rows))"
   ]
  }
 ],
 "metadata": {
  "kernelspec": {
   "display_name": "base",
   "language": "python",
   "name": "python3"
  },
  "language_info": {
   "codemirror_mode": {
    "name": "ipython",
    "version": 3
   },
   "file_extension": ".py",
   "mimetype": "text/x-python",
   "name": "python",
   "nbconvert_exporter": "python",
   "pygments_lexer": "ipython3",
   "version": "3.11.5"
  }
 },
 "nbformat": 4,
 "nbformat_minor": 2
}
